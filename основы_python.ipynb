{
 "cells": [
  {
   "cell_type": "markdown",
   "metadata": {
    "id": "M-DGa20PaHnu"
   },
   "source": [
    "#Задача 1\n",
    "Написать функцию на вход которой подается строка, состоящая из латинских букв.\n",
    "Функция должна вернуть количество гласных букв (a, e, i, o, u) в этой строке. Написать тесты для кода"
   ]
  },
  {
   "cell_type": "code",
   "execution_count": 1,
   "metadata": {
    "id": "XvX8X_JJ6PCb"
   },
   "outputs": [],
   "source": [
    "def Count(s):\n",
    "    chars1 = set(\"aeiou\")\n",
    "    return sum(1 for char in s if char in chars1)"
   ]
  },
  {
   "cell_type": "code",
   "execution_count": 2,
   "metadata": {},
   "outputs": [],
   "source": [
    "def TestCount():\n",
    "    assert Count(\"aeiou\") == 5, \"Test 1 fail\"\n",
    "    assert Count(\"abbb\") == 1, \"Test 2 fail\"\n",
    "    assert Count(\"eieieiegkg\") == 7, \"Test 3 fail\"\n",
    "    assert Count(\"bbbbbbbb\") == 0, \"Test 4 fail\"\n",
    "    assert Count(\"sdsdsdeu\") == 2, \"Test 5 fail\"\n",
    "    assert Count(\"ooooeeee\") == 8, \"Test 6 fail\"\n",
    "    assert Count(\"aeiouaeiou\") == 10, \"Test 7 fail\"\n",
    "    print(\"perfect!\")"
   ]
  },
  {
   "cell_type": "code",
   "execution_count": 3,
   "metadata": {},
   "outputs": [
    {
     "name": "stdout",
     "output_type": "stream",
     "text": [
      "perfect!\n"
     ]
    }
   ],
   "source": [
    "TestCount()"
   ]
  },
  {
   "cell_type": "markdown",
   "metadata": {
    "id": "t2ClV_Y0bbr6"
   },
   "source": [
    "# Задача 2\n",
    "Написать функцию на вход, которой подается строка. Функция должна вернуть true, если\n",
    "каждый символ в строке встречается только 1 раз, иначе должна вернуть false. Написать тесты для кода"
   ]
  },
  {
   "cell_type": "code",
   "execution_count": 4,
   "metadata": {
    "id": "FppbECao6VIz"
   },
   "outputs": [],
   "source": [
    "def OnlyOneChar(s):\n",
    "    return len(s) == len(set(s))"
   ]
  },
  {
   "cell_type": "code",
   "execution_count": 5,
   "metadata": {},
   "outputs": [],
   "source": [
    "def Test2():\n",
    "    assert OnlyOneChar(\"qwerty\") == True, \"Test 1 fail\"\n",
    "    assert OnlyOneChar(\"asdfg\") == True, \"Test 2 fail\"\n",
    "    assert OnlyOneChar(\"qwertt\") == False, \"Test 3 fail\"\n",
    "     \n",
    "    print(\"perfect!\")"
   ]
  },
  {
   "cell_type": "code",
   "execution_count": 6,
   "metadata": {},
   "outputs": [
    {
     "name": "stdout",
     "output_type": "stream",
     "text": [
      "perfect!\n"
     ]
    }
   ],
   "source": [
    "Test2()"
   ]
  },
  {
   "cell_type": "markdown",
   "metadata": {
    "id": "udRiIK1cdt6E"
   },
   "source": [
    "# Задача 3\n",
    "Написать функцию, которая принимает положительное число и возвращает количество\n",
    "бит равных 1 в этом числе. Написать тесты для кода"
   ]
  },
  {
   "cell_type": "code",
   "execution_count": 7,
   "metadata": {
    "id": "6tkfDJRz6dp_"
   },
   "outputs": [],
   "source": [
    "def CountBit(num):\n",
    "    return bin(num).count('1')"
   ]
  },
  {
   "cell_type": "code",
   "execution_count": 8,
   "metadata": {},
   "outputs": [],
   "source": [
    "def TestCountBit():\n",
    "    assert CountBit(255) == 8, \"Test 1 fail\"\n",
    "    assert CountBit(3) == 2, \"Test 2 fail\"\n",
    "    assert CountBit(1024) == 1, \"Test 3 fail\"\n",
    "    assert CountBit(255) == 8, \"Test 4 fail\"\n",
    "\n",
    "    print(\"perfect!\")"
   ]
  },
  {
   "cell_type": "code",
   "execution_count": 9,
   "metadata": {},
   "outputs": [
    {
     "name": "stdout",
     "output_type": "stream",
     "text": [
      "perfect!\n"
     ]
    }
   ],
   "source": [
    "TestCountBit()"
   ]
  },
  {
   "cell_type": "markdown",
   "metadata": {
    "id": "26dDUz-Ae17N"
   },
   "source": [
    "# Задача 4\n",
    "Написать функцию, которая принимает положительное число. Функция должна вернуть то,\n",
    "сколько раз необходимо перемножать цифры числа или результат перемножения, чтобы\n",
    "получилось число состоящее из одной цифры.\n",
    "Например, для входного числа:\n",
    "· 39 функция должна вернуть 3, так как 3*9=27 => 2*7=14 => 1*4=4\n",
    "· 4 функция должна вернуть 0, так как число уже состоит из одной цифры\n",
    "· 999 функция должна вернуть 4, так как 9*9*9=729 => 7*2*9=126 => 1*2*6=12 =>\n",
    "1*2=2. Написать тесты для кода"
   ]
  },
  {
   "cell_type": "code",
   "execution_count": 11,
   "metadata": {
    "id": "BH1A_Mgi6i4G"
   },
   "outputs": [],
   "source": [
    "def magic(n):\n",
    "    count = 0\n",
    "    while n >= 10:\n",
    "        n = multDigits(n)\n",
    "        count +=1\n",
    "    return count\n",
    "\n",
    "def multDigits(n):\n",
    "    result = 1\n",
    "    while n > 0:\n",
    "        result *= n % 10\n",
    "        n //= 10\n",
    "    return result\n",
    "    "
   ]
  },
  {
   "cell_type": "code",
   "execution_count": 12,
   "metadata": {},
   "outputs": [],
   "source": [
    "def Test4():\n",
    "    assert magic(39) == 3, \"Test 1 fail\"\n",
    "    assert magic(999) == 4, \"Test 2 fail\"\n",
    "\n",
    "    print(\"perfect!\")"
   ]
  },
  {
   "cell_type": "code",
   "execution_count": 13,
   "metadata": {},
   "outputs": [
    {
     "name": "stdout",
     "output_type": "stream",
     "text": [
      "perfect!\n"
     ]
    }
   ],
   "source": [
    "Test4()"
   ]
  },
  {
   "cell_type": "markdown",
   "metadata": {
    "id": "0nS-kIa8g8vd"
   },
   "source": [
    "# Задача 5\n",
    "Написать функцию, которая принимает два целочисленных вектора одинаковой длины и\n",
    "возвращает среднеквадратическое отклонение двух векторов. Написать тесты для кода"
   ]
  },
  {
   "cell_type": "code",
   "execution_count": 21,
   "metadata": {},
   "outputs": [],
   "source": [
    "import math"
   ]
  },
  {
   "cell_type": "code",
   "execution_count": 25,
   "metadata": {
    "id": "8iphx4LM6xbx"
   },
   "outputs": [],
   "source": [
    "def mse(pred, true):\n",
    "    if len(pred) != len(true):\n",
    "        return \n",
    "\n",
    "    sq = sum((a-b) ** 2 for a,b in zip(pred, true))\n",
    "    return math.sqrt(sq / len(pred))"
   ]
  },
  {
   "cell_type": "code",
   "execution_count": 30,
   "metadata": {},
   "outputs": [],
   "source": [
    "def Test5():\n",
    "    assert mse([1, 2, 3], [1, 2, 3]) == 0.0, \"Test 1 fail\"\n",
    "    assert math.isclose(mse([1, 2, 3], [4, 5, 6]), 3.0), \"Test 2 fail\"\n",
    "    assert math.isclose(mse([10, 20, 30], [10, 10, 10]), 12.91,rel_tol=1e-2), \"Test 3 fail\"\n",
    "    assert mse([0, 0, 0], [0, 0, 0]) == 0.0, \"Test 4 fail\"\n",
    "    assert math.isclose(mse([-1, -2, -3], [-4, -5, -6]), 3.0), \"Test 5 fail\"\n",
    "\n",
    "    return \"perfect\""
   ]
  },
  {
   "cell_type": "code",
   "execution_count": 31,
   "metadata": {},
   "outputs": [
    {
     "data": {
      "text/plain": [
       "'perfect'"
      ]
     },
     "execution_count": 31,
     "metadata": {},
     "output_type": "execute_result"
    }
   ],
   "source": [
    "Test5()"
   ]
  },
  {
   "cell_type": "markdown",
   "metadata": {
    "id": "vpIPKL439zkw"
   },
   "source": [
    "# Задача 6\n",
    "Написать функцию, принимающая целое положительное число. Функция должна вернуть\n",
    "строку вида “(n1**p1)(n2**p2)…(nk**pk)” представляющая разложение числа на простые\n",
    "множители (если pi == 1, то выводить только ni).\n",
    "Например, для числа 86240 функция должна вернуть “(2**5)(5)(7**2)(11)”. Написать тесты для кода"
   ]
  },
  {
   "cell_type": "code",
   "execution_count": 40,
   "metadata": {
    "id": "pFebmcZk94Jw"
   },
   "outputs": [],
   "source": [
    "def S6(n):\n",
    "    factors = {}\n",
    "    div = 2\n",
    "    while n > 1:\n",
    "        while n % div == 0:\n",
    "            if div in factors:\n",
    "                factors[div] +=1\n",
    "            else:\n",
    "                factors[div] = 1\n",
    "            n //= div\n",
    "        div += 1\n",
    "    result = []\n",
    "    for prime, count in factors.items():\n",
    "        if count == 1:\n",
    "            result.append(f\"({prime})\")\n",
    "        else:\n",
    "            result.append(f\"({prime}**{count})\")\n",
    "\n",
    "    return ''.join(result)\n",
    "            \n"
   ]
  },
  {
   "cell_type": "code",
   "execution_count": 43,
   "metadata": {},
   "outputs": [],
   "source": [
    "def Test6():\n",
    "    assert S6(86240) == \"(2**5)(5)(7**2)(11)\", \"Test 1 fail\"\n",
    "    assert S6(28) == \"(2**2)(7)\", \"Test 2 fail\"\n",
    "    assert S6(1) == \"\", \"Test 3 fail\"\n",
    "\n",
    "    print(\"perfect!\")"
   ]
  },
  {
   "cell_type": "code",
   "execution_count": 44,
   "metadata": {},
   "outputs": [
    {
     "name": "stdout",
     "output_type": "stream",
     "text": [
      "perfect!\n"
     ]
    }
   ],
   "source": [
    "Test6()"
   ]
  },
  {
   "cell_type": "markdown",
   "metadata": {
    "id": "ps2s0BudX7A2"
   },
   "source": [
    "# Задача 7\n",
    "Написать функцию, принимающая целое число n, задающее количество кубиков. Функция\n",
    "должна определить, можно ли из данного кол-ва кубиков построить пирамиду, то есть\n",
    "можно ли представить число n как 1^2+2^2+3^2+…+k^2. Если можно, то функция должна\n",
    "вернуть k, иначе строку “It is impossible”. Написать тесты для кода"
   ]
  },
  {
   "cell_type": "code",
   "execution_count": 53,
   "metadata": {
    "id": "3YPjEXxhX_YT"
   },
   "outputs": [],
   "source": [
    "def pyramid(number):\n",
    "    k = 0\n",
    "    while True:\n",
    "        sumSquares = (k * (k + 1) * (2 * k + 1)) // 6\n",
    "\n",
    "        if sumSquares == number:\n",
    "            return k\n",
    "        elif sumSquares > number:\n",
    "            return \"It is impossuble\"\n",
    "\n",
    "        k+=1"
   ]
  },
  {
   "cell_type": "code",
   "execution_count": 55,
   "metadata": {},
   "outputs": [],
   "source": [
    "def Test7():\n",
    "    assert pyramid(14) == 3, \"Test 1 fail\"\n",
    "    assert pyramid(5) == 2, \"Test 2 fail\"\n",
    "    assert pyramid(15) == \"It is impossuble\" ,\"Test 3 fail\"\n",
    "\n",
    "    print(\"perfect\")"
   ]
  },
  {
   "cell_type": "code",
   "execution_count": 56,
   "metadata": {},
   "outputs": [
    {
     "name": "stdout",
     "output_type": "stream",
     "text": [
      "perfect\n"
     ]
    }
   ],
   "source": [
    "Test7()"
   ]
  },
  {
   "cell_type": "markdown",
   "metadata": {
    "id": "KeKgmIdAQMEJ"
   },
   "source": [
    "# Задача 8\n",
    "Функция принимает на вход положительное число и определяет является ли оно сбалансированным, т.е. сумма цифр до средних равна сумме цифр после. Средними в случае нечетного числа цифр считать одну цифру, в случае четного - две средних. Написать тесты для кода"
   ]
  },
  {
   "cell_type": "code",
   "execution_count": 57,
   "metadata": {
    "id": "gMAAqtqlQrZt"
   },
   "outputs": [],
   "source": [
    "def S8(n):\n",
    "    digits = str(n)\n",
    "    length = len(digits)\n",
    "\n",
    "    if length % 2 == 0:\n",
    "        midIndex = length // 2\n",
    "        leftSum = sum(int(digits[i]) for i in range(midIndex -1))\n",
    "        rightSum = sum(int(digits[i]) for i in range(midIndex + 1, length))\n",
    "    else:\n",
    "        midIndex = length // 2\n",
    "        leftSum = sum(int(digits[i]) for i in range(midIndex))\n",
    "        rightSum = sum(int(digits[i]) for i in range(midIndex + 1, length))\n",
    "\n",
    "    return leftSum == rightSum"
   ]
  },
  {
   "cell_type": "code",
   "execution_count": 60,
   "metadata": {},
   "outputs": [],
   "source": [
    "def Test8():\n",
    "    assert S8(31040) == True, \"Test 1 fail\"\n",
    "    assert S8(123321) == True, \"Test 2 fail\"\n",
    "    assert S8(123456) == False, \"Test 3 fail\"\n",
    "    assert S8(11112) == False, \"Test 4 fail\"\n",
    "    print(\"Perfect!\")"
   ]
  },
  {
   "cell_type": "code",
   "execution_count": 62,
   "metadata": {},
   "outputs": [
    {
     "name": "stdout",
     "output_type": "stream",
     "text": [
      "Perfect!\n"
     ]
    }
   ],
   "source": [
    "Test8()"
   ]
  },
  {
   "cell_type": "code",
   "execution_count": null,
   "metadata": {},
   "outputs": [],
   "source": []
  }
 ],
 "metadata": {
  "colab": {
   "provenance": []
  },
  "kernelspec": {
   "display_name": "Python 3 (ipykernel)",
   "language": "python",
   "name": "python3"
  },
  "language_info": {
   "codemirror_mode": {
    "name": "ipython",
    "version": 3
   },
   "file_extension": ".py",
   "mimetype": "text/x-python",
   "name": "python",
   "nbconvert_exporter": "python",
   "pygments_lexer": "ipython3",
   "version": "3.12.3"
  }
 },
 "nbformat": 4,
 "nbformat_minor": 4
}
